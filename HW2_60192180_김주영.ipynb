{
  "nbformat": 4,
  "nbformat_minor": 0,
  "metadata": {
    "colab": {
      "provenance": [],
      "include_colab_link": true
    },
    "kernelspec": {
      "name": "python3",
      "display_name": "Python 3"
    },
    "language_info": {
      "name": "python"
    }
  },
  "cells": [
    {
      "cell_type": "markdown",
      "metadata": {
        "id": "view-in-github",
        "colab_type": "text"
      },
      "source": [
        "<a href=\"https://colab.research.google.com/github/Kimjoozero/deep_learning/blob/main/HW2_60192180_%EA%B9%80%EC%A3%BC%EC%98%81.ipynb\" target=\"_parent\"><img src=\"https://colab.research.google.com/assets/colab-badge.svg\" alt=\"Open In Colab\"/></a>"
      ]
    },
    {
      "cell_type": "code",
      "source": [
        "!pwd"
      ],
      "metadata": {
        "colab": {
          "base_uri": "https://localhost:8080/"
        },
        "id": "pAdA_5d-nuyU",
        "outputId": "47e6bb96-7bdf-438c-9273-e1daed70ac9f"
      },
      "execution_count": 42,
      "outputs": [
        {
          "output_type": "stream",
          "name": "stdout",
          "text": [
            "/content\n"
          ]
        }
      ]
    },
    {
      "cell_type": "code",
      "source": [
        "# lms에서 sample_64_half.npz 파일을 다운로드 하신 후에 구글 drive에 업로드 하세요.\n",
        "# 업로드 위치는 최상위 디렉토리인 My Drive 입니다."
      ],
      "metadata": {
        "id": "H3e43jteqVHW"
      },
      "execution_count": 43,
      "outputs": []
    },
    {
      "cell_type": "code",
      "execution_count": 44,
      "metadata": {
        "colab": {
          "base_uri": "https://localhost:8080/"
        },
        "id": "gZgmw_LsnoZG",
        "outputId": "d7a8d218-361d-45f7-deab-22773a87c838"
      },
      "outputs": [
        {
          "output_type": "stream",
          "name": "stdout",
          "text": [
            "Drive already mounted at /content/drive; to attempt to forcibly remount, call drive.mount(\"/content/drive\", force_remount=True).\n"
          ]
        }
      ],
      "source": [
        "from google.colab import drive # google drive와 연동하기 위한 라이브러리\n",
        "drive.mount('/content/drive') # google drive와 연결(mount) 완료"
      ]
    },
    {
      "cell_type": "code",
      "source": [
        "import numpy as np\n",
        "filename = '/content/drive/My Drive/sample_64_half.npz'\n",
        "np_files = np.load(filename)\n",
        "\n",
        "# 학습용 데이터셋\n",
        "train_data = np_files['x_train']\n",
        "train_labels = np_files['y_train']\n",
        "\n",
        "# 검증용 데이터셋\n",
        "valid_data = np_files['x_valid']\n",
        "valid_labels = np_files['y_valid']\n",
        "\n",
        "# 학습 데이터의 형태\n",
        "train_data.shape"
      ],
      "metadata": {
        "colab": {
          "base_uri": "https://localhost:8080/"
        },
        "id": "ZZVvVgdVoJ-y",
        "outputId": "8b737d6c-836c-4e0b-a9f1-7df1f39dd632"
      },
      "execution_count": 45,
      "outputs": [
        {
          "output_type": "execute_result",
          "data": {
            "text/plain": [
              "(8000, 4096, 1)"
            ]
          },
          "metadata": {},
          "execution_count": 45
        }
      ]
    },
    {
      "cell_type": "code",
      "source": [
        "# 데이터는 4096개의 숫자를 가지는 데이터이다.\n",
        "train_data[0]"
      ],
      "metadata": {
        "colab": {
          "base_uri": "https://localhost:8080/"
        },
        "id": "d3I_D_9TpVYp",
        "outputId": "22d0c070-d1ff-48d7-e115-a5ba6e7bcc51"
      },
      "execution_count": 46,
      "outputs": [
        {
          "output_type": "execute_result",
          "data": {
            "text/plain": [
              "array([[ 77],\n",
              "       [ 90],\n",
              "       [144],\n",
              "       ...,\n",
              "       [  0],\n",
              "       [  0],\n",
              "       [  0]], dtype=uint8)"
            ]
          },
          "metadata": {},
          "execution_count": 46
        }
      ]
    },
    {
      "cell_type": "code",
      "source": [
        "# 정답 데이터의 형식 : 숫자 0 또는 1\n",
        "train_labels[0:10]"
      ],
      "metadata": {
        "colab": {
          "base_uri": "https://localhost:8080/"
        },
        "id": "q83VSqQqpcPh",
        "outputId": "d2b128fe-a954-4946-b70f-ba7bcfc4ee58"
      },
      "execution_count": 47,
      "outputs": [
        {
          "output_type": "execute_result",
          "data": {
            "text/plain": [
              "array([0, 0, 1, 1, 0, 1, 0, 1, 0, 1])"
            ]
          },
          "metadata": {},
          "execution_count": 47
        }
      ]
    },
    {
      "cell_type": "code",
      "source": [
        "from tensorflow import keras\n",
        "from tensorflow.keras import layers\n",
        "\n",
        "model = keras.Sequential(name=\"binary_classification_model\")\n",
        "\n",
        "model.add(keras.Input(shape=(64, 64, 1), name=\"input_layer\"))\n",
        "model.add(layers.Conv2D(32, kernel_size=(3, 3), activation=\"relu\"))\n",
        "model.add(layers.MaxPooling2D(pool_size=(2, 2)))\n",
        "model.add(layers.Flatten())\n",
        "model.add(layers.Dense(64, activation='relu', name='hidden_dense_layer'))\n",
        "\n",
        "model.add(layers.Dense(1, activation=\"sigmoid\", name=\"output_layer\"))\n",
        "\n",
        "model.summary()\n",
        "\n",
        "model.compile(loss=\"binary_crossentropy\",\n",
        "              optimizer=\"adam\",\n",
        "              metrics=[\"accuracy\"])\n",
        "print(\"\\n모델 구성 및 컴파일 완료.\")"
      ],
      "metadata": {
        "id": "sxcyHY8Fp9Nc",
        "colab": {
          "base_uri": "https://localhost:8080/",
          "height": 326
        },
        "outputId": "17678ad5-2d4b-4a05-af6d-ce28c5defd33"
      },
      "execution_count": 53,
      "outputs": [
        {
          "output_type": "display_data",
          "data": {
            "text/plain": [
              "\u001b[1mModel: \"binary_classification_model\"\u001b[0m\n"
            ],
            "text/html": [
              "<pre style=\"white-space:pre;overflow-x:auto;line-height:normal;font-family:Menlo,'DejaVu Sans Mono',consolas,'Courier New',monospace\"><span style=\"font-weight: bold\">Model: \"binary_classification_model\"</span>\n",
              "</pre>\n"
            ]
          },
          "metadata": {}
        },
        {
          "output_type": "display_data",
          "data": {
            "text/plain": [
              "┏━━━━━━━━━━━━━━━━━━━━━━━━━━━━━━━━━┳━━━━━━━━━━━━━━━━━━━━━━━━┳━━━━━━━━━━━━━━━┓\n",
              "┃\u001b[1m \u001b[0m\u001b[1mLayer (type)                   \u001b[0m\u001b[1m \u001b[0m┃\u001b[1m \u001b[0m\u001b[1mOutput Shape          \u001b[0m\u001b[1m \u001b[0m┃\u001b[1m \u001b[0m\u001b[1m      Param #\u001b[0m\u001b[1m \u001b[0m┃\n",
              "┡━━━━━━━━━━━━━━━━━━━━━━━━━━━━━━━━━╇━━━━━━━━━━━━━━━━━━━━━━━━╇━━━━━━━━━━━━━━━┩\n",
              "│ conv2d_4 (\u001b[38;5;33mConv2D\u001b[0m)               │ (\u001b[38;5;45mNone\u001b[0m, \u001b[38;5;34m62\u001b[0m, \u001b[38;5;34m62\u001b[0m, \u001b[38;5;34m32\u001b[0m)     │           \u001b[38;5;34m320\u001b[0m │\n",
              "├─────────────────────────────────┼────────────────────────┼───────────────┤\n",
              "│ max_pooling2d_4 (\u001b[38;5;33mMaxPooling2D\u001b[0m)  │ (\u001b[38;5;45mNone\u001b[0m, \u001b[38;5;34m31\u001b[0m, \u001b[38;5;34m31\u001b[0m, \u001b[38;5;34m32\u001b[0m)     │             \u001b[38;5;34m0\u001b[0m │\n",
              "├─────────────────────────────────┼────────────────────────┼───────────────┤\n",
              "│ flatten_4 (\u001b[38;5;33mFlatten\u001b[0m)             │ (\u001b[38;5;45mNone\u001b[0m, \u001b[38;5;34m30752\u001b[0m)          │             \u001b[38;5;34m0\u001b[0m │\n",
              "├─────────────────────────────────┼────────────────────────┼───────────────┤\n",
              "│ hidden_dense_layer (\u001b[38;5;33mDense\u001b[0m)      │ (\u001b[38;5;45mNone\u001b[0m, \u001b[38;5;34m64\u001b[0m)             │     \u001b[38;5;34m1,968,192\u001b[0m │\n",
              "├─────────────────────────────────┼────────────────────────┼───────────────┤\n",
              "│ output_layer (\u001b[38;5;33mDense\u001b[0m)            │ (\u001b[38;5;45mNone\u001b[0m, \u001b[38;5;34m1\u001b[0m)              │            \u001b[38;5;34m65\u001b[0m │\n",
              "└─────────────────────────────────┴────────────────────────┴───────────────┘\n"
            ],
            "text/html": [
              "<pre style=\"white-space:pre;overflow-x:auto;line-height:normal;font-family:Menlo,'DejaVu Sans Mono',consolas,'Courier New',monospace\">┏━━━━━━━━━━━━━━━━━━━━━━━━━━━━━━━━━┳━━━━━━━━━━━━━━━━━━━━━━━━┳━━━━━━━━━━━━━━━┓\n",
              "┃<span style=\"font-weight: bold\"> Layer (type)                    </span>┃<span style=\"font-weight: bold\"> Output Shape           </span>┃<span style=\"font-weight: bold\">       Param # </span>┃\n",
              "┡━━━━━━━━━━━━━━━━━━━━━━━━━━━━━━━━━╇━━━━━━━━━━━━━━━━━━━━━━━━╇━━━━━━━━━━━━━━━┩\n",
              "│ conv2d_4 (<span style=\"color: #0087ff; text-decoration-color: #0087ff\">Conv2D</span>)               │ (<span style=\"color: #00d7ff; text-decoration-color: #00d7ff\">None</span>, <span style=\"color: #00af00; text-decoration-color: #00af00\">62</span>, <span style=\"color: #00af00; text-decoration-color: #00af00\">62</span>, <span style=\"color: #00af00; text-decoration-color: #00af00\">32</span>)     │           <span style=\"color: #00af00; text-decoration-color: #00af00\">320</span> │\n",
              "├─────────────────────────────────┼────────────────────────┼───────────────┤\n",
              "│ max_pooling2d_4 (<span style=\"color: #0087ff; text-decoration-color: #0087ff\">MaxPooling2D</span>)  │ (<span style=\"color: #00d7ff; text-decoration-color: #00d7ff\">None</span>, <span style=\"color: #00af00; text-decoration-color: #00af00\">31</span>, <span style=\"color: #00af00; text-decoration-color: #00af00\">31</span>, <span style=\"color: #00af00; text-decoration-color: #00af00\">32</span>)     │             <span style=\"color: #00af00; text-decoration-color: #00af00\">0</span> │\n",
              "├─────────────────────────────────┼────────────────────────┼───────────────┤\n",
              "│ flatten_4 (<span style=\"color: #0087ff; text-decoration-color: #0087ff\">Flatten</span>)             │ (<span style=\"color: #00d7ff; text-decoration-color: #00d7ff\">None</span>, <span style=\"color: #00af00; text-decoration-color: #00af00\">30752</span>)          │             <span style=\"color: #00af00; text-decoration-color: #00af00\">0</span> │\n",
              "├─────────────────────────────────┼────────────────────────┼───────────────┤\n",
              "│ hidden_dense_layer (<span style=\"color: #0087ff; text-decoration-color: #0087ff\">Dense</span>)      │ (<span style=\"color: #00d7ff; text-decoration-color: #00d7ff\">None</span>, <span style=\"color: #00af00; text-decoration-color: #00af00\">64</span>)             │     <span style=\"color: #00af00; text-decoration-color: #00af00\">1,968,192</span> │\n",
              "├─────────────────────────────────┼────────────────────────┼───────────────┤\n",
              "│ output_layer (<span style=\"color: #0087ff; text-decoration-color: #0087ff\">Dense</span>)            │ (<span style=\"color: #00d7ff; text-decoration-color: #00d7ff\">None</span>, <span style=\"color: #00af00; text-decoration-color: #00af00\">1</span>)              │            <span style=\"color: #00af00; text-decoration-color: #00af00\">65</span> │\n",
              "└─────────────────────────────────┴────────────────────────┴───────────────┘\n",
              "</pre>\n"
            ]
          },
          "metadata": {}
        },
        {
          "output_type": "display_data",
          "data": {
            "text/plain": [
              "\u001b[1m Total params: \u001b[0m\u001b[38;5;34m1,968,577\u001b[0m (7.51 MB)\n"
            ],
            "text/html": [
              "<pre style=\"white-space:pre;overflow-x:auto;line-height:normal;font-family:Menlo,'DejaVu Sans Mono',consolas,'Courier New',monospace\"><span style=\"font-weight: bold\"> Total params: </span><span style=\"color: #00af00; text-decoration-color: #00af00\">1,968,577</span> (7.51 MB)\n",
              "</pre>\n"
            ]
          },
          "metadata": {}
        },
        {
          "output_type": "display_data",
          "data": {
            "text/plain": [
              "\u001b[1m Trainable params: \u001b[0m\u001b[38;5;34m1,968,577\u001b[0m (7.51 MB)\n"
            ],
            "text/html": [
              "<pre style=\"white-space:pre;overflow-x:auto;line-height:normal;font-family:Menlo,'DejaVu Sans Mono',consolas,'Courier New',monospace\"><span style=\"font-weight: bold\"> Trainable params: </span><span style=\"color: #00af00; text-decoration-color: #00af00\">1,968,577</span> (7.51 MB)\n",
              "</pre>\n"
            ]
          },
          "metadata": {}
        },
        {
          "output_type": "display_data",
          "data": {
            "text/plain": [
              "\u001b[1m Non-trainable params: \u001b[0m\u001b[38;5;34m0\u001b[0m (0.00 B)\n"
            ],
            "text/html": [
              "<pre style=\"white-space:pre;overflow-x:auto;line-height:normal;font-family:Menlo,'DejaVu Sans Mono',consolas,'Courier New',monospace\"><span style=\"font-weight: bold\"> Non-trainable params: </span><span style=\"color: #00af00; text-decoration-color: #00af00\">0</span> (0.00 B)\n",
              "</pre>\n"
            ]
          },
          "metadata": {}
        },
        {
          "output_type": "stream",
          "name": "stdout",
          "text": [
            "\n",
            "모델 구성 및 컴파일 완료.\n"
          ]
        }
      ]
    },
    {
      "cell_type": "code",
      "source": [
        "import numpy as np\n",
        "from sklearn.model_selection import train_test_split\n",
        "\n",
        "\n",
        "print(\"Original data shape:\", train_data.shape)\n",
        "\n",
        "\n",
        "if train_data.ndim == 3 and train_data.shape[1] == 4096:\n",
        "    num_samples = train_data.shape[0]\n",
        "    train_data_reshaped = train_data.reshape((num_samples, 64, 64, 1))\n",
        "elif train_data.ndim == 2 and train_data.shape[1] == 4096:\n",
        "    num_samples = train_data.shape[0]\n",
        "    train_data_reshaped = train_data.reshape((num_samples, 64, 64, 1))\n",
        "elif train_data.ndim == 3 and train_data.shape[-1] == 1:\n",
        "    train_data_reshaped = train_data\n",
        "else:\n",
        "    print(\"Warning: Data shape is not in expected format (8000, 4096, 1). Attempting reshape to (8000, 64, 64, 1)\")\n",
        "    num_samples = train_data.shape[0]\n",
        "    try:\n",
        "        train_data_reshaped = train_data.reshape((num_samples, 64, 64, 1))\n",
        "    except ValueError:\n",
        "        print(\"Error: Could not reshape data to (num_samples, 64, 64, 1). Please check your input data shape.\")\n",
        "        train_data_reshaped = train_data\n",
        "\n",
        "\n",
        "print(\"Reshaped data shape:\", train_data_reshaped.shape)\n",
        "\n",
        "\n",
        "train_data_normalized = train_data_reshaped.astype('float32') / 255.0\n",
        "print(\"Data normalized.\")\n",
        "\n",
        "\n",
        "try:\n",
        "    seed_value\n",
        "except NameError:\n",
        "    seed_value = 42\n",
        "\n",
        "x_train, x_val, y_train, y_val = train_test_split(\n",
        "    train_data_normalized,\n",
        "    train_labels,\n",
        "    test_size=0.2,\n",
        "    random_state=seed_value,\n",
        "    stratify=train_labels\n",
        ")\n",
        "print(\"Data split into training and validation sets:\")\n",
        "print(\"x_train shape:\", x_train.shape, \"| y_train shape:\", y_train.shape)\n",
        "print(\"x_val shape:\", x_val.shape, \"| y_val shape:\", y_val.shape)"
      ],
      "metadata": {
        "id": "A2ZHq8bTp_oT",
        "colab": {
          "base_uri": "https://localhost:8080/"
        },
        "outputId": "9d6c68c3-7b2c-4413-fc8d-28635d785300"
      },
      "execution_count": 54,
      "outputs": [
        {
          "output_type": "stream",
          "name": "stdout",
          "text": [
            "Original data shape: (8000, 4096, 1)\n",
            "Reshaped data shape: (8000, 64, 64, 1)\n",
            "Data normalized.\n",
            "Data split into training and validation sets:\n",
            "x_train shape: (6400, 64, 64, 1) | y_train shape: (6400,)\n",
            "x_val shape: (1600, 64, 64, 1) | y_val shape: (1600,)\n"
          ]
        }
      ]
    },
    {
      "cell_type": "code",
      "source": [
        "from tensorflow.keras.callbacks import ModelCheckpoint\n",
        "\n",
        "epochs = 20\n",
        "batch_size = 128\n",
        "\n",
        "\n",
        "checkpoint_filepath = '/content/drive/MyDrive/best_model.keras'\n",
        "model_checkpoint_callback = ModelCheckpoint(\n",
        "    filepath=checkpoint_filepath,\n",
        "    save_weights_only=False,\n",
        "    monitor='val_accuracy',\n",
        "    mode='max',\n",
        "    save_best_only=True)\n",
        "print(f\"Starting model training for {epochs} epochs...\")\n",
        "history = model.fit(\n",
        "    x_train, y_train,\n",
        "    batch_size=batch_size,\n",
        "    epochs=epochs,\n",
        "    validation_data=(x_val, y_val),\n",
        "    callbacks=[model_checkpoint_callback]\n",
        ")\n",
        "print(\"\\nModel training finished.\")\n",
        "\n"
      ],
      "metadata": {
        "id": "k1Cbrn4fqBFG",
        "colab": {
          "base_uri": "https://localhost:8080/"
        },
        "outputId": "a81bef5c-aab7-4a2c-8dff-108a3e4bbe7c"
      },
      "execution_count": 55,
      "outputs": [
        {
          "output_type": "stream",
          "name": "stdout",
          "text": [
            "Starting model training for 20 epochs...\n",
            "Epoch 1/20\n",
            "\u001b[1m50/50\u001b[0m \u001b[32m━━━━━━━━━━━━━━━━━━━━\u001b[0m\u001b[37m\u001b[0m \u001b[1m19s\u001b[0m 363ms/step - accuracy: 0.6268 - loss: 0.8530 - val_accuracy: 0.7919 - val_loss: 0.4678\n",
            "Epoch 2/20\n",
            "\u001b[1m50/50\u001b[0m \u001b[32m━━━━━━━━━━━━━━━━━━━━\u001b[0m\u001b[37m\u001b[0m \u001b[1m19s\u001b[0m 374ms/step - accuracy: 0.8045 - loss: 0.4229 - val_accuracy: 0.8156 - val_loss: 0.3953\n",
            "Epoch 3/20\n",
            "\u001b[1m50/50\u001b[0m \u001b[32m━━━━━━━━━━━━━━━━━━━━\u001b[0m\u001b[37m\u001b[0m \u001b[1m22s\u001b[0m 401ms/step - accuracy: 0.8621 - loss: 0.3468 - val_accuracy: 0.8294 - val_loss: 0.3603\n",
            "Epoch 4/20\n",
            "\u001b[1m50/50\u001b[0m \u001b[32m━━━━━━━━━━━━━━━━━━━━\u001b[0m\u001b[37m\u001b[0m \u001b[1m19s\u001b[0m 376ms/step - accuracy: 0.8891 - loss: 0.2964 - val_accuracy: 0.8731 - val_loss: 0.3318\n",
            "Epoch 5/20\n",
            "\u001b[1m50/50\u001b[0m \u001b[32m━━━━━━━━━━━━━━━━━━━━\u001b[0m\u001b[37m\u001b[0m \u001b[1m22s\u001b[0m 399ms/step - accuracy: 0.9114 - loss: 0.2494 - val_accuracy: 0.8650 - val_loss: 0.3066\n",
            "Epoch 6/20\n",
            "\u001b[1m50/50\u001b[0m \u001b[32m━━━━━━━━━━━━━━━━━━━━\u001b[0m\u001b[37m\u001b[0m \u001b[1m19s\u001b[0m 362ms/step - accuracy: 0.9191 - loss: 0.2223 - val_accuracy: 0.8875 - val_loss: 0.2849\n",
            "Epoch 7/20\n",
            "\u001b[1m50/50\u001b[0m \u001b[32m━━━━━━━━━━━━━━━━━━━━\u001b[0m\u001b[37m\u001b[0m \u001b[1m19s\u001b[0m 374ms/step - accuracy: 0.9313 - loss: 0.1937 - val_accuracy: 0.8612 - val_loss: 0.3199\n",
            "Epoch 8/20\n",
            "\u001b[1m50/50\u001b[0m \u001b[32m━━━━━━━━━━━━━━━━━━━━\u001b[0m\u001b[37m\u001b[0m \u001b[1m21s\u001b[0m 393ms/step - accuracy: 0.9281 - loss: 0.1816 - val_accuracy: 0.8744 - val_loss: 0.2927\n",
            "Epoch 9/20\n",
            "\u001b[1m50/50\u001b[0m \u001b[32m━━━━━━━━━━━━━━━━━━━━\u001b[0m\u001b[37m\u001b[0m \u001b[1m19s\u001b[0m 359ms/step - accuracy: 0.9370 - loss: 0.1675 - val_accuracy: 0.8894 - val_loss: 0.2675\n",
            "Epoch 10/20\n",
            "\u001b[1m50/50\u001b[0m \u001b[32m━━━━━━━━━━━━━━━━━━━━\u001b[0m\u001b[37m\u001b[0m \u001b[1m22s\u001b[0m 395ms/step - accuracy: 0.9542 - loss: 0.1364 - val_accuracy: 0.8644 - val_loss: 0.3188\n",
            "Epoch 11/20\n",
            "\u001b[1m50/50\u001b[0m \u001b[32m━━━━━━━━━━━━━━━━━━━━\u001b[0m\u001b[37m\u001b[0m \u001b[1m19s\u001b[0m 367ms/step - accuracy: 0.9506 - loss: 0.1393 - val_accuracy: 0.8888 - val_loss: 0.2655\n",
            "Epoch 12/20\n",
            "\u001b[1m50/50\u001b[0m \u001b[32m━━━━━━━━━━━━━━━━━━━━\u001b[0m\u001b[37m\u001b[0m \u001b[1m20s\u001b[0m 364ms/step - accuracy: 0.9567 - loss: 0.1263 - val_accuracy: 0.8925 - val_loss: 0.2617\n",
            "Epoch 13/20\n",
            "\u001b[1m50/50\u001b[0m \u001b[32m━━━━━━━━━━━━━━━━━━━━\u001b[0m\u001b[37m\u001b[0m \u001b[1m22s\u001b[0m 398ms/step - accuracy: 0.9581 - loss: 0.1226 - val_accuracy: 0.8963 - val_loss: 0.2722\n",
            "Epoch 14/20\n",
            "\u001b[1m50/50\u001b[0m \u001b[32m━━━━━━━━━━━━━━━━━━━━\u001b[0m\u001b[37m\u001b[0m \u001b[1m19s\u001b[0m 374ms/step - accuracy: 0.9650 - loss: 0.1072 - val_accuracy: 0.8994 - val_loss: 0.2618\n",
            "Epoch 15/20\n",
            "\u001b[1m50/50\u001b[0m \u001b[32m━━━━━━━━━━━━━━━━━━━━\u001b[0m\u001b[37m\u001b[0m \u001b[1m22s\u001b[0m 404ms/step - accuracy: 0.9633 - loss: 0.1068 - val_accuracy: 0.8956 - val_loss: 0.2611\n",
            "Epoch 16/20\n",
            "\u001b[1m50/50\u001b[0m \u001b[32m━━━━━━━━━━━━━━━━━━━━\u001b[0m\u001b[37m\u001b[0m \u001b[1m18s\u001b[0m 361ms/step - accuracy: 0.9518 - loss: 0.1205 - val_accuracy: 0.8919 - val_loss: 0.2741\n",
            "Epoch 17/20\n",
            "\u001b[1m50/50\u001b[0m \u001b[32m━━━━━━━━━━━━━━━━━━━━\u001b[0m\u001b[37m\u001b[0m \u001b[1m20s\u001b[0m 359ms/step - accuracy: 0.9671 - loss: 0.0920 - val_accuracy: 0.8875 - val_loss: 0.2775\n",
            "Epoch 18/20\n",
            "\u001b[1m50/50\u001b[0m \u001b[32m━━━━━━━━━━━━━━━━━━━━\u001b[0m\u001b[37m\u001b[0m \u001b[1m20s\u001b[0m 395ms/step - accuracy: 0.9633 - loss: 0.0899 - val_accuracy: 0.8894 - val_loss: 0.2794\n",
            "Epoch 19/20\n",
            "\u001b[1m50/50\u001b[0m \u001b[32m━━━━━━━━━━━━━━━━━━━━\u001b[0m\u001b[37m\u001b[0m \u001b[1m19s\u001b[0m 359ms/step - accuracy: 0.9745 - loss: 0.0789 - val_accuracy: 0.9000 - val_loss: 0.2713\n",
            "Epoch 20/20\n",
            "\u001b[1m50/50\u001b[0m \u001b[32m━━━━━━━━━━━━━━━━━━━━\u001b[0m\u001b[37m\u001b[0m \u001b[1m19s\u001b[0m 371ms/step - accuracy: 0.9672 - loss: 0.0875 - val_accuracy: 0.8975 - val_loss: 0.2857\n",
            "\n",
            "Model training finished.\n"
          ]
        }
      ]
    },
    {
      "cell_type": "code",
      "source": [
        "\n",
        "final_train_acc = history.history['accuracy'][-1]\n",
        "final_val_acc = history.history['val_accuracy'][-1]\n",
        "print(\"Using results from the final epoch.\")\n",
        "\n",
        "\n",
        "final_score = (final_train_acc + final_val_acc) / 2\n",
        "\n",
        "print(\"\\n--- Final Results ---\")\n",
        "print(f\"# Accuracy : {final_train_acc*100:.2f}%\")\n",
        "print(f\"# Validation Accuracy : {final_val_acc*100:.2f}%\")\n",
        "print(f\"# Final Score : {final_score*100:.2f}%\")"
      ],
      "metadata": {
        "id": "flub5oYMqCd1",
        "colab": {
          "base_uri": "https://localhost:8080/"
        },
        "outputId": "3f36c753-e32b-4d81-b82a-7fec9f723c24"
      },
      "execution_count": 56,
      "outputs": [
        {
          "output_type": "stream",
          "name": "stdout",
          "text": [
            "Using results from the final epoch.\n",
            "\n",
            "--- Final Results ---\n",
            "# Accuracy : 97.08%\n",
            "# Validation Accuracy : 89.75%\n",
            "# Final Score : 93.41%\n"
          ]
        }
      ]
    }
  ]
}